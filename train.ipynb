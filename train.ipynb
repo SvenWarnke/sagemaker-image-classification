{
 "cells": [
  {
   "cell_type": "code",
   "execution_count": 1,
   "metadata": {},
   "outputs": [],
   "source": [
    "import sagemaker\n",
    "import os"
   ]
  },
  {
   "cell_type": "code",
   "execution_count": 20,
   "metadata": {},
   "outputs": [],
   "source": [
    "import pathlib as pl"
   ]
  },
  {
   "cell_type": "code",
   "execution_count": 2,
   "metadata": {},
   "outputs": [],
   "source": [
    "import datetime"
   ]
  },
  {
   "cell_type": "code",
   "execution_count": 3,
   "metadata": {},
   "outputs": [],
   "source": [
    "from sagemaker.tensorflow import TensorFlow\n",
    "from sagemaker.debugger import TensorBoardOutputConfig"
   ]
  },
  {
   "cell_type": "code",
   "execution_count": 4,
   "metadata": {},
   "outputs": [],
   "source": [
    "sess = sagemaker.Session()\n",
    "role = sagemaker.get_execution_role()"
   ]
  },
  {
   "cell_type": "code",
   "execution_count": null,
   "metadata": {},
   "outputs": [],
   "source": [
    "upload_data = False\n",
    "if upload_data:\n",
    "    data_input_path = sess.upload_data('data/severstal-binary')\n",
    "else:\n",
    "    data_input_path = \"s3://sagemaker-us-east-2-475496805360/data\"\n",
    "print(data_input_path)"
   ]
  },
  {
   "cell_type": "code",
   "execution_count": null,
   "metadata": {},
   "outputs": [],
   "source": [
    "training_input_path = data_input_path + \"/train\"\n",
    "validation_input_path = data_input_path + \"/validate\""
   ]
  },
  {
   "cell_type": "code",
   "execution_count": null,
   "metadata": {},
   "outputs": [],
   "source": [
    "time_now = datetime.datetime.now().strftime(\"%Y%m%d-%H%M%S\")\n",
    "tensorboard_logs_dir = f\"s3://{sess.default_bucket()}/tensorboard_logs\" # /fit/{time_now}\" "
   ]
  },
  {
   "cell_type": "code",
   "execution_count": null,
   "metadata": {},
   "outputs": [],
   "source": [
    "tensorboard_logs_dir"
   ]
  },
  {
   "cell_type": "code",
   "execution_count": 28,
   "metadata": {},
   "outputs": [],
   "source": [
    "file_list = [\n",
    "    pl.Path(f)\n",
    "    for f in sess.list_s3_files(sess.default_bucket(), \"tensorboard_logs/fit/\")\n",
    "    if not f.endswith(\"/\")\n",
    "]"
   ]
  },
  {
   "cell_type": "code",
   "execution_count": 33,
   "metadata": {},
   "outputs": [
    {
     "name": "stdout",
     "output_type": "stream",
     "text": [
      "tensorboard_logs/fit/train/events.out.tfevents.1606126027.0eb86bb4c8f5.20.6033.v2\n",
      "tensorboard_logs/fit/train/events.out.tfevents.1606126044.0eb86bb4c8f5.profile-empty\n",
      "tensorboard_logs/fit/train/plugins/profile/2020_11_23_10_07_23/0eb86bb4c8f5.input_pipeline.pb\n",
      "tensorboard_logs/fit/train/plugins/profile/2020_11_23_10_07_23/0eb86bb4c8f5.kernel_stats.pb\n",
      "tensorboard_logs/fit/train/plugins/profile/2020_11_23_10_07_23/0eb86bb4c8f5.memory_profile.json.gz\n",
      "tensorboard_logs/fit/train/plugins/profile/2020_11_23_10_07_23/0eb86bb4c8f5.overview_page.pb\n",
      "tensorboard_logs/fit/train/plugins/profile/2020_11_23_10_07_23/0eb86bb4c8f5.tensorflow_stats.pb\n",
      "tensorboard_logs/fit/train/plugins/profile/2020_11_23_10_07_23/0eb86bb4c8f5.trace.json.gz\n",
      "tensorboard_logs/fit/train/plugins/profile/2020_11_23_10_07_23/0eb86bb4c8f5.xplane.pb\n",
      "tensorboard_logs/fit/validation/events.out.tfevents.1606126036.0eb86bb4c8f5.20.14427.v2\n"
     ]
    }
   ],
   "source": [
    "for f in file_list:\n",
    "    print(f)\n",
    "    sess.download_data(str(f.parent), sess.default_bucket(), str(f))"
   ]
  },
  {
   "cell_type": "code",
   "execution_count": null,
   "metadata": {},
   "outputs": [],
   "source": [
    "tensorboard_output_config = TensorBoardOutputConfig(s3_output_path=tensorboard_logs_dir)"
   ]
  },
  {
   "cell_type": "code",
   "execution_count": null,
   "metadata": {},
   "outputs": [],
   "source": [
    "tf_estimator = TensorFlow(\n",
    "    entry_point='fine_tune_eff_net.py', \n",
    "    role=role,\n",
    "    instance_count=1, \n",
    "    instance_type='local',  # local 'ml.g4dn.xlarge'\n",
    "    framework_version='2.3', \n",
    "    py_version='py37',\n",
    "    script_mode=True,\n",
    "    hyperparameters={'epochs': 2},\n",
    "    tensorboard_output_config=tensorboard_output_config\n",
    ")"
   ]
  },
  {
   "cell_type": "code",
   "execution_count": null,
   "metadata": {},
   "outputs": [],
   "source": [
    "tf_estimator.fit({'training': training_input_path, 'validation': validation_input_path, 'log-dir': tensorboard_logs_dir})"
   ]
  },
  {
   "cell_type": "code",
   "execution_count": null,
   "metadata": {},
   "outputs": [],
   "source": []
  }
 ],
 "metadata": {
  "kernelspec": {
   "display_name": "conda_amazonei_tensorflow2_p36",
   "language": "python",
   "name": "conda_amazonei_tensorflow2_p36"
  },
  "language_info": {
   "codemirror_mode": {
    "name": "ipython",
    "version": 3
   },
   "file_extension": ".py",
   "mimetype": "text/x-python",
   "name": "python",
   "nbconvert_exporter": "python",
   "pygments_lexer": "ipython3",
   "version": "3.6.10"
  }
 },
 "nbformat": 4,
 "nbformat_minor": 4
}
