{
 "cells": [
  {
   "cell_type": "code",
   "execution_count": null,
   "metadata": {},
   "outputs": [],
   "source": [
    "import sagemaker\n",
    "import os"
   ]
  },
  {
   "cell_type": "code",
   "execution_count": null,
   "metadata": {},
   "outputs": [],
   "source": [
    "import pathlib as pl"
   ]
  },
  {
   "cell_type": "code",
   "execution_count": null,
   "metadata": {},
   "outputs": [],
   "source": [
    "import datetime"
   ]
  },
  {
   "cell_type": "code",
   "execution_count": null,
   "metadata": {},
   "outputs": [],
   "source": [
    "from sagemaker.tensorflow import TensorFlow\n",
    "from sagemaker.debugger import TensorBoardOutputConfig"
   ]
  },
  {
   "cell_type": "code",
   "execution_count": null,
   "metadata": {},
   "outputs": [],
   "source": [
    "MODEL = \"InceptionV3\"\n",
    "EPOCHS = 5\n",
    "STEPS_PER_EPOCH = 10"
   ]
  },
  {
   "cell_type": "code",
   "execution_count": null,
   "metadata": {},
   "outputs": [],
   "source": [
    "sess = sagemaker.Session()\n",
    "role = sagemaker.get_execution_role()"
   ]
  },
  {
   "cell_type": "code",
   "execution_count": null,
   "metadata": {},
   "outputs": [],
   "source": [
    "upload_data = False\n",
    "if upload_data:\n",
    "    data_input_path = sess.upload_data('data/severstal-binary')\n",
    "else:\n",
    "    data_input_path = \"s3://sagemaker-us-east-2-475496805360/data\"\n",
    "print(data_input_path)"
   ]
  },
  {
   "cell_type": "code",
   "execution_count": null,
   "metadata": {},
   "outputs": [],
   "source": [
    "training_input_path = data_input_path + \"/train\"\n",
    "validation_input_path = data_input_path + \"/validate\""
   ]
  },
  {
   "cell_type": "code",
   "execution_count": null,
   "metadata": {},
   "outputs": [],
   "source": [
    "time_now = datetime.datetime.now().strftime(\"%Y-%m-%d_%Hh%Mm%Ss\")\n",
    "tensorboard_logs_dir = f\"s3://{sess.default_bucket()}/tensorboard_logs_v2/fit/{time_now}_{MODEL}\""
   ]
  },
  {
   "cell_type": "code",
   "execution_count": null,
   "metadata": {},
   "outputs": [],
   "source": [
    "tensorboard_output_config = TensorBoardOutputConfig(s3_output_path=tensorboard_logs_dir)"
   ]
  },
  {
   "cell_type": "code",
   "execution_count": null,
   "metadata": {},
   "outputs": [],
   "source": [
    "tf_estimator = TensorFlow(\n",
    "    entry_point='fine_tune_eff_net.py', \n",
    "    role=role,\n",
    "    instance_count=1, \n",
    "    instance_type='ml.g4dn.xlarge',  # local 'ml.g4dn.xlarge'\n",
    "    framework_version='2.3', \n",
    "    py_version='py37',\n",
    "    script_mode=True,\n",
    "    hyperparameters={\n",
    "        'epochs': EPOCHS,\n",
    "        \"steps-per-epoch\": STEPS_PER_EPOCH,\n",
    "        \"log-dir\": tensorboard_logs_dir,\n",
    "        \"model\": MODEL\n",
    "    },\n",
    "    tensorboard_output_config=tensorboard_output_config,\n",
    ")"
   ]
  },
  {
   "cell_type": "code",
   "execution_count": null,
   "metadata": {},
   "outputs": [],
   "source": [
    "tf_estimator.fit(\n",
    "    {\n",
    "        'training': training_input_path, \n",
    "        'validation': validation_input_path, \n",
    "    }\n",
    ")"
   ]
  },
  {
   "cell_type": "code",
   "execution_count": null,
   "metadata": {},
   "outputs": [],
   "source": []
  }
 ],
 "metadata": {
  "kernelspec": {
   "display_name": "conda_amazonei_tensorflow2_p36",
   "language": "python",
   "name": "conda_amazonei_tensorflow2_p36"
  },
  "language_info": {
   "codemirror_mode": {
    "name": "ipython",
    "version": 3
   },
   "file_extension": ".py",
   "mimetype": "text/x-python",
   "name": "python",
   "nbconvert_exporter": "python",
   "pygments_lexer": "ipython3",
   "version": "3.6.10"
  }
 },
 "nbformat": 4,
 "nbformat_minor": 4
}
