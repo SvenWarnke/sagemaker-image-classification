{
 "cells": [
  {
   "cell_type": "code",
   "execution_count": null,
   "metadata": {},
   "outputs": [],
   "source": [
    "import pandas as pd\n",
    "\n",
    "import pathlib as pl\n",
    "\n",
    "import os"
   ]
  },
  {
   "cell_type": "code",
   "execution_count": null,
   "metadata": {},
   "outputs": [],
   "source": [
    "import shutil"
   ]
  },
  {
   "cell_type": "code",
   "execution_count": null,
   "metadata": {},
   "outputs": [],
   "source": [
    "from sklearn import model_selection"
   ]
  },
  {
   "cell_type": "code",
   "execution_count": null,
   "metadata": {},
   "outputs": [],
   "source": [
    "data_folder = pl.Path(\"obsoletely_data\") / \"unzipped_images\""
   ]
  },
  {
   "cell_type": "code",
   "execution_count": null,
   "metadata": {},
   "outputs": [],
   "source": [
    "split_data_folder = pl.Path(\"obsoletely_data\") / \"split_images\""
   ]
  },
  {
   "cell_type": "code",
   "execution_count": null,
   "metadata": {},
   "outputs": [],
   "source": [
    "subfolders = os.listdir(data_folder)"
   ]
  },
  {
   "cell_type": "code",
   "execution_count": null,
   "metadata": {},
   "outputs": [],
   "source": [
    "SUPPORTED_IMAGE_FORMATS = (\"JPG\", \"jpg\", \"jpeg\", \"png\", \"bmp\", \"gif\")"
   ]
  },
  {
   "cell_type": "code",
   "execution_count": null,
   "metadata": {},
   "outputs": [],
   "source": [
    "def split(class_folder, origin_root_folder, destination_root_folder, validation_split=0.2):\n",
    "    all_files = os.listdir(origin_root_folder / class_folder)\n",
    "    \n",
    "    suitable_files = [\n",
    "        f for f in all_files\n",
    "        if f.endswith(SUPPORTED_IMAGE_FORMATS)\n",
    "    ]\n",
    "    \n",
    "    for f in all_files:\n",
    "        if f not in suitable_files:\n",
    "            print(f\"Image not suitable: {f}\")\n",
    "    \n",
    "    train_files, validation_files = model_selection.train_test_split(\n",
    "        suitable_files, \n",
    "        test_size=validation_split\n",
    "    )\n",
    "    \n",
    "    os.makedirs(destination_root_folder / \"train\" / class_folder)\n",
    "    os.makedirs(destination_root_folder / \"validate\" / class_folder)\n",
    "    \n",
    "    for file in train_files:\n",
    "        shutil.copy(\n",
    "            origin_root_folder / class_folder /file,\n",
    "            destination_root_folder / \"train\" / class_folder / file\n",
    "        )\n",
    "    \n",
    "    for file in validation_files:\n",
    "        shutil.copy(\n",
    "            origin_root_folder / class_folder /file,\n",
    "            destination_root_folder / \"validate\" / class_folder / file\n",
    "        )\n"
   ]
  },
  {
   "cell_type": "code",
   "execution_count": null,
   "metadata": {},
   "outputs": [],
   "source": [
    "shutil.rmtree(split_data_folder)"
   ]
  },
  {
   "cell_type": "code",
   "execution_count": null,
   "metadata": {},
   "outputs": [],
   "source": [
    "for class_folder in subfolders:\n",
    "    print(class_folder)\n",
    "    split(\n",
    "        class_folder,\n",
    "        data_folder,\n",
    "        split_data_folder\n",
    "    )\n",
    "    print()"
   ]
  }
 ],
 "metadata": {
  "kernelspec": {
   "display_name": "conda_amazonei_tensorflow2_p36",
   "language": "python",
   "name": "conda_amazonei_tensorflow2_p36"
  },
  "language_info": {
   "codemirror_mode": {
    "name": "ipython",
    "version": 3
   },
   "file_extension": ".py",
   "mimetype": "text/x-python",
   "name": "python",
   "nbconvert_exporter": "python",
   "pygments_lexer": "ipython3",
   "version": "3.6.10"
  }
 },
 "nbformat": 4,
 "nbformat_minor": 4
}
